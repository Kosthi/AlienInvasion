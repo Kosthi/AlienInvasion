{
 "cells": [
  {
   "cell_type": "code",
   "execution_count": 5,
   "id": "7bbe8279",
   "metadata": {},
   "outputs": [],
   "source": [
    "import sys\n",
    "\n",
    "import pygame\n",
    "\n",
    "from settings import Settings\n",
    "from ship import Ship\n",
    "from bullet import Bullet"
   ]
  },
  {
   "cell_type": "code",
   "execution_count": null,
   "id": "03ee4aea",
   "metadata": {},
   "outputs": [],
   "source": [
    "class AlienInvasion:\n",
    "    \"\"\"管理游戏资源和文件的类\"\"\"\n",
    "    def __init__(self):\n",
    "        \"\"\"初始化游戏并创建游戏资源\"\"\"\n",
    "        pygame.init()\n",
    "        self.settings = Settings()\n",
    "        self.screen = pygame.display.set_mode((0, 0), pygame.FULLSCREEN)\n",
    "        self.settings.screen_height = self.screen.get_rect().height\n",
    "        self.settings.screen_width = self.screen.get_rect().width\n",
    "        #self.screen = pygame.display.set_mode((self.settings.screen_width, self.settings.screen_height))\n",
    "        self.ship = Ship(self)\n",
    "        self.bullets = pygame.sprite.Group()\n",
    "        pygame.display.set_caption('Alien Invasion')\n",
    "    \n",
    "    def run_game(self):\n",
    "        \"\"\"开始游戏的主循环\"\"\"\n",
    "        while True:\n",
    "            self._check_events()\n",
    "            self.ship.update()\n",
    "            self._update_bullets()\n",
    "            self._update_screen()\n",
    "    \n",
    "    def _check_events(self):\n",
    "        \"\"\"监视键盘和鼠标事件\"\"\"\n",
    "        for event in pygame.event.get():\n",
    "            if event.type == pygame.QUIT:\n",
    "                sys.exit()\n",
    "            elif event.type == pygame.KEYDOWN:\n",
    "                self._check_keydown_events(event)\n",
    "            elif event.type == pygame.KEYUP:\n",
    "                self._check_keyup_events(event)\n",
    "                    \n",
    "    def _check_keyup_events(self, event):\n",
    "        \"\"\"响应按键\"\"\"\n",
    "        if event.key == pygame.K_LEFT:\n",
    "            self.ship.moving_left = False\n",
    "        elif event.key == pygame.K_RIGHT:\n",
    "            self.ship.moving_right = False\n",
    "            \n",
    "    def _check_keydown_events(self, event):\n",
    "        \"\"\"响应松开\"\"\"\n",
    "        if event.key == pygame.K_LEFT:\n",
    "            self.ship.moving_left = True\n",
    "        elif event.key == pygame.K_RIGHT:\n",
    "            self.ship.moving_right = True\n",
    "        elif event.key == pygame.K_q:\n",
    "            sys.exit()\n",
    "        elif event.key == pygame.K_SPACE:\n",
    "            self._fire_bullet()\n",
    "    \n",
    "    def _fire_bullet(self):\n",
    "        \"\"\"创建新子弹并加入编组bullets中\"\"\"\n",
    "        if len(self.bullets) < self.settings.bullets_allowed:\n",
    "            new_bullet = Bullet(self)\n",
    "            self.bullets.add(new_bullet)\n",
    "            \n",
    "    def _update_bullets(self):\n",
    "        \"\"\"更新子弹的位置并删除消失的子弹\"\"\"\n",
    "        # 更新子弹的位置\n",
    "        self.bullets.update()\n",
    "        \n",
    "        # 删除消失的子弹\n",
    "        for bullet in self.bullets.copy():\n",
    "            if bullet.rect.bottom <= self.screen.get_rect().top:\n",
    "                self.bullets.remove(bullet)\n",
    "                \n",
    "    def _update_screen(self):\n",
    "        \"\"\"每次循环都重绘屏幕\"\"\"\n",
    "        self.screen.fill(self.settings.bg_color)\n",
    "        self.ship.blitme()\n",
    "        for bullet in self.bullets.sprites():\n",
    "            bullet.draw_bullet()\n",
    "        # 最近绘制的屏幕可见\n",
    "        pygame.display.flip()\n",
    "        \n",
    "if __name__ == '__main__':\n",
    "    ai = AlienInvasion()\n",
    "    ai.run_game()"
   ]
  },
  {
   "cell_type": "code",
   "execution_count": 18,
   "id": "437273dc",
   "metadata": {
    "tags": [
     "tag"
    ]
   },
   "outputs": [
    {
     "name": "stdout",
     "output_type": "stream",
     "text": [
      "[NbConvertApp] Converting notebook alien_invasion.ipynb to script\n",
      "[NbConvertApp] Writing 2811 bytes to alien_invasion.py\n"
     ]
    },
    {
     "data": {
      "text/plain": [
       "2747"
      ]
     },
     "execution_count": 18,
     "metadata": {},
     "output_type": "execute_result"
    }
   ],
   "source": [
    "!jupyter nbconvert --to script alien_invasion.ipynb --TagRemovePreprocessor.remove_cell_tags='{\"tag\"}'\n",
    "\n",
    "import re\n",
    "from pathlib import Path\n",
    "filename = Path.cwd() / 'alien_invasion.py'\n",
    "code_text = filename.read_text().split('\\n')\n",
    "lines = [line for line in code_text if len(line) == 0 or \n",
    "        (line[0] != '#' and 'get_ipython()' not in line)]\n",
    "clean_code = '\\n'.join(lines)\n",
    "clean_code = re.sub(r'\\n{2,}', '\\n\\n', clean_code)\n",
    "filename.write_text(clean_code.strip())"
   ]
  }
 ],
 "metadata": {
  "kernelspec": {
   "display_name": "Python 3 (ipykernel)",
   "language": "python",
   "name": "python3"
  },
  "language_info": {
   "codemirror_mode": {
    "name": "ipython",
    "version": 3
   },
   "file_extension": ".py",
   "mimetype": "text/x-python",
   "name": "python",
   "nbconvert_exporter": "python",
   "pygments_lexer": "ipython3",
   "version": "3.9.6"
  }
 },
 "nbformat": 4,
 "nbformat_minor": 5
}
