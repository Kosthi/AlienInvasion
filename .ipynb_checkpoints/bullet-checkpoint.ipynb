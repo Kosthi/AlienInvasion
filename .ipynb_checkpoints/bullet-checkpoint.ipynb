{
 "cells": [
  {
   "cell_type": "code",
   "execution_count": 2,
   "id": "ce07425e",
   "metadata": {},
   "outputs": [],
   "source": [
    "import pygame\n",
    "from pygame.sprite import Sprite"
   ]
  },
  {
   "cell_type": "code",
   "execution_count": 3,
   "id": "968220ae",
   "metadata": {},
   "outputs": [],
   "source": [
    "class Bullet(Sprite):\n",
    "    \"\"\"管理飞船发射子弹的类\"\"\"\n",
    "    def __init__(self, ai_game):\n",
    "        \"\"\"在当前位置创建一个子弹对象\"\"\"\n",
    "        super().__init__()\n",
    "        self.screen = ai_game.screen\n",
    "        self.settings = ai_game.settings\n",
    "        self.color = self.settings.bullet_color\n",
    "        \n",
    "        # 在(0, 0)处创建一个子弹的矩形，再设置正确的位置\n",
    "        self.rect = pygame.Rect(0, 0, self.settings.bullet_width, self.settings.bullet_height)\n",
    "        self.rect.midtop = ai_game.ship.rect.midtop\n",
    "        \n",
    "        # 存储用小数表示的子弹位置\n",
    "        self.y = float(self.rect.y)\n",
    "        \n",
    "    def update(self):\n",
    "        \"\"\"向上移动子弹\"\"\"\n",
    "        # 更新表示子弹位置的小数值\n",
    "        self.y -= self.settings.bullet_speed\n",
    "        # 更新表示子弹rect的值\n",
    "        self.rect.y = self.y\n",
    "        \n",
    "    def draw_bullet(self):\n",
    "        \"\"\"在屏幕上绘制子弹\"\"\"\n",
    "        pygame.draw.rect(self.screen, self.color, self.rect)"
   ]
  },
  {
   "cell_type": "code",
   "execution_count": 4,
   "id": "11042d69",
   "metadata": {
    "tags": [
     "tag"
    ]
   },
   "outputs": [
    {
     "name": "stdout",
     "output_type": "stream",
     "text": [
      "[NbConvertApp] Converting notebook bullet.ipynb to script\n",
      "[NbConvertApp] Writing 921 bytes to bullet.py\n"
     ]
    },
    {
     "data": {
      "text/plain": [
       "857"
      ]
     },
     "execution_count": 4,
     "metadata": {},
     "output_type": "execute_result"
    }
   ],
   "source": [
    "!jupyter nbconvert --to script bullet.ipynb --TagRemovePreprocessor.remove_cell_tags='{\"tag\"}'\n",
    "\n",
    "import re\n",
    "from pathlib import Path\n",
    "filename = Path.cwd() / 'bullet.py'\n",
    "code_text = filename.read_text().split('\\n')\n",
    "lines = [line for line in code_text if len(line) == 0 or \n",
    "        (line[0] != '#' and 'get_ipython()' not in line)]\n",
    "clean_code = '\\n'.join(lines)\n",
    "clean_code = re.sub(r'\\n{2,}', '\\n\\n', clean_code)\n",
    "filename.write_text(clean_code.strip())"
   ]
  }
 ],
 "metadata": {
  "kernelspec": {
   "display_name": "Python 3 (ipykernel)",
   "language": "python",
   "name": "python3"
  },
  "language_info": {
   "codemirror_mode": {
    "name": "ipython",
    "version": 3
   },
   "file_extension": ".py",
   "mimetype": "text/x-python",
   "name": "python",
   "nbconvert_exporter": "python",
   "pygments_lexer": "ipython3",
   "version": "3.9.6"
  }
 },
 "nbformat": 4,
 "nbformat_minor": 5
}
