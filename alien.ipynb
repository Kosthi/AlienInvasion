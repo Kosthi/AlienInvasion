{
 "cells": [
  {
   "cell_type": "code",
   "execution_count": 1,
   "id": "f4d632c8",
   "metadata": {},
   "outputs": [
    {
     "name": "stdout",
     "output_type": "stream",
     "text": [
      "pygame 2.1.2 (SDL 2.0.18, Python 3.9.6)\n",
      "Hello from the pygame community. https://www.pygame.org/contribute.html\n"
     ]
    }
   ],
   "source": [
    "import pygame\n",
    "from pygame.sprite import Sprite"
   ]
  },
  {
   "cell_type": "code",
   "execution_count": 2,
   "id": "b05cb6ee",
   "metadata": {},
   "outputs": [],
   "source": [
    "class Alien(Sprite):\n",
    "    \"\"\"表示单个外星人的类\"\"\"\n",
    "    def __init__(self, ai_game):\n",
    "        \"\"\"初始化外星人并设置其起始位置\"\"\"\n",
    "        super().__init__()\n",
    "        self.screen = ai_game.screen\n",
    "        \n",
    "        # 加载外星人图形并设置其rect属性\n",
    "        self.image = pygame.image.load('./images/alien.bmp')\n",
    "        self.rect = self.image.get_rect()\n",
    "        \n",
    "        # 每个外星人最初出现在左上角附近\n",
    "        self.rect.x = self.rect.width\n",
    "        self.rect.y = self.rect.height\n",
    "        \n",
    "        # 存储外星人精确水平位置\n",
    "        self.x = float(self.rect.x)\n",
    "        self.y = float(self.rect.y)"
   ]
  },
  {
   "cell_type": "code",
   "execution_count": 7,
   "id": "9c46ef35",
   "metadata": {
    "tags": [
     "tag"
    ]
   },
   "outputs": [
    {
     "name": "stdout",
     "output_type": "stream",
     "text": [
      "[NbConvertApp] Converting notebook alien.ipynb to script\n",
      "[NbConvertApp] Writing 633 bytes to alien.py\n"
     ]
    },
    {
     "data": {
      "text/plain": [
       "569"
      ]
     },
     "execution_count": 7,
     "metadata": {},
     "output_type": "execute_result"
    }
   ],
   "source": [
    "!jupyter nbconvert --to script alien.ipynb --TagRemovePreprocessor.remove_cell_tags='{\"tag\"}'\n",
    "\n",
    "import re\n",
    "from pathlib import Path\n",
    "filename = Path.cwd() / 'alien.py'\n",
    "code_text = filename.read_text().split('\\n')\n",
    "lines = [line for line in code_text if len(line) == 0 or \n",
    "        (line[0] != '#' and 'get_ipython()' not in line)]\n",
    "clean_code = '\\n'.join(lines)\n",
    "clean_code = re.sub(r'\\n{2,}', '\\n\\n', clean_code)\n",
    "filename.write_text(clean_code.strip())"
   ]
  }
 ],
 "metadata": {
  "kernelspec": {
   "display_name": "Python 3 (ipykernel)",
   "language": "python",
   "name": "python3"
  },
  "language_info": {
   "codemirror_mode": {
    "name": "ipython",
    "version": 3
   },
   "file_extension": ".py",
   "mimetype": "text/x-python",
   "name": "python",
   "nbconvert_exporter": "python",
   "pygments_lexer": "ipython3",
   "version": "3.9.6"
  }
 },
 "nbformat": 4,
 "nbformat_minor": 5
}
