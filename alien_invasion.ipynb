{
 "cells": [
  {
   "cell_type": "code",
   "execution_count": 1,
   "id": "7bbe8279",
   "metadata": {},
   "outputs": [
    {
     "name": "stdout",
     "output_type": "stream",
     "text": [
      "pygame 2.1.2 (SDL 2.0.18, Python 3.9.6)\n",
      "Hello from the pygame community. https://www.pygame.org/contribute.html\n"
     ]
    }
   ],
   "source": [
    "import sys\n",
    "\n",
    "import pygame\n",
    "\n",
    "from settings import Settings\n",
    "from ship import Ship\n",
    "from bullet import Bullet\n",
    "from alien import Alien"
   ]
  },
  {
   "cell_type": "code",
   "execution_count": null,
   "id": "03ee4aea",
   "metadata": {},
   "outputs": [],
   "source": [
    "class AlienInvasion:\n",
    "    \"\"\"管理游戏资源和文件的类\"\"\"\n",
    "    def __init__(self):\n",
    "        \"\"\"初始化游戏并创建游戏资源\"\"\"\n",
    "        pygame.init()\n",
    "        self.settings = Settings()\n",
    "        self.screen = pygame.display.set_mode((0, 0), pygame.FULLSCREEN)\n",
    "        self.settings.screen_height = self.screen.get_rect().height\n",
    "        self.settings.screen_width = self.screen.get_rect().width\n",
    "        #self.screen = pygame.display.set_mode((self.settings.screen_width, self.settings.screen_height))\n",
    "        self.ship = Ship(self)\n",
    "        self.bullets = pygame.sprite.Group()\n",
    "        self.aliens = pygame.sprite.Group()\n",
    "        pygame.display.set_caption('Alien Invasion')\n",
    "    \n",
    "    def run_game(self):\n",
    "        \"\"\"开始游戏的主循环\"\"\"\n",
    "        while True:\n",
    "            self._check_events()\n",
    "            self.ship.update()\n",
    "            self._update_bullets()\n",
    "            self._create_fleet()\n",
    "            self._update_screen()\n",
    "    \n",
    "    def _check_events(self):\n",
    "        \"\"\"监视键盘和鼠标事件\"\"\"\n",
    "        for event in pygame.event.get():\n",
    "            if event.type == pygame.QUIT:\n",
    "                sys.exit()\n",
    "            elif event.type == pygame.KEYDOWN:\n",
    "                self._check_keydown_events(event)\n",
    "            elif event.type == pygame.KEYUP:\n",
    "                self._check_keyup_events(event)\n",
    "                    \n",
    "    def _check_keyup_events(self, event):\n",
    "        \"\"\"响应按键\"\"\"\n",
    "        if event.key == pygame.K_LEFT:\n",
    "            self.ship.moving_left = False\n",
    "        elif event.key == pygame.K_RIGHT:\n",
    "            self.ship.moving_right = False\n",
    "            \n",
    "    def _check_keydown_events(self, event):\n",
    "        \"\"\"响应松开\"\"\"\n",
    "        if event.key == pygame.K_LEFT:\n",
    "            self.ship.moving_left = True\n",
    "        elif event.key == pygame.K_RIGHT:\n",
    "            self.ship.moving_right = True\n",
    "        elif event.key == pygame.K_q:\n",
    "            sys.exit()\n",
    "        elif event.key == pygame.K_SPACE:\n",
    "            self._fire_bullet()\n",
    "    \n",
    "    def _fire_bullet(self):\n",
    "        \"\"\"创建新子弹并加入编组bullets中\"\"\"\n",
    "        if len(self.bullets) < self.settings.bullets_allowed:\n",
    "            new_bullet = Bullet(self)\n",
    "            self.bullets.add(new_bullet)\n",
    "            \n",
    "    def _update_bullets(self):\n",
    "        \"\"\"更新子弹的位置并删除消失的子弹\"\"\"\n",
    "        # 更新子弹的位置\n",
    "        self.bullets.update()\n",
    "        \n",
    "        # 删除消失的子弹\n",
    "        for bullet in self.bullets.copy():\n",
    "            if bullet.rect.bottom <= self.screen.get_rect().top:\n",
    "                self.bullets.remove(bullet)\n",
    "                \n",
    "    def _create_alien(self, alien_number, row_number):\n",
    "        # 创建一个外星人并放在当前行\n",
    "        alien = Alien(self)\n",
    "        \n",
    "        alien.x = alien.rect.width + 2 * alien.rect.width * alien_number\n",
    "        alien.y = alien.rect.height + 2 * alien.rect.height * row_number\n",
    "        alien.rect.x = alien.x\n",
    "        alien.rect.y = alien.y\n",
    "        \n",
    "        self.aliens.add(alien)\n",
    "        \n",
    "    def _create_fleet(self):\n",
    "        \"\"\"创建外星人群\"\"\"\n",
    "        # 创建一个外星人并计算一行可容纳多少外星人\n",
    "        # 外星人间距为外星人宽度\n",
    "        new_alien = Alien(self)\n",
    "        self.aliens.add(new_alien)\n",
    "        alien_width = new_alien.rect.width\n",
    "        alien_height = new_alien.rect.height\n",
    "        \n",
    "        available_space_x = self.settings.screen_width - (2 * alien_width)\n",
    "        available_space_y = self.settings.screen_height - (3 * alien_height) - self.ship.rect.height\n",
    "        \n",
    "        numbers_alien_x = available_space_x // (2 * alien_width)\n",
    "        numbers_alien_y = available_space_y // (2 * alien_height)\n",
    "        \n",
    "        # 创建外星人群\n",
    "        for row_number in range(numbers_alien_y):\n",
    "            # 创建第row_number行外星人\n",
    "            for alien_number in range(numbers_alien_x):\n",
    "                self._create_alien(alien_number, row_number)\n",
    "            \n",
    "    def _update_screen(self):\n",
    "        \"\"\"每次循环都重绘屏幕\"\"\"\n",
    "        self.screen.fill(self.settings.bg_color)\n",
    "        self.ship.blitme()\n",
    "        for bullet in self.bullets.sprites():\n",
    "            bullet.draw_bullet()\n",
    "        self.aliens.draw(self.screen)\n",
    "        # 最近绘制的屏幕可见\n",
    "        pygame.display.flip()\n",
    "        \n",
    "if __name__ == '__main__':\n",
    "    ai = AlienInvasion()\n",
    "    ai.run_game()"
   ]
  },
  {
   "cell_type": "code",
   "execution_count": 12,
   "id": "437273dc",
   "metadata": {
    "tags": [
     "tag"
    ]
   },
   "outputs": [
    {
     "name": "stdout",
     "output_type": "stream",
     "text": [
      "[NbConvertApp] Converting notebook alien_invasion.ipynb to script\n",
      "[NbConvertApp] Writing 4126 bytes to alien_invasion.py\n"
     ]
    },
    {
     "data": {
      "text/plain": [
       "4062"
      ]
     },
     "execution_count": 12,
     "metadata": {},
     "output_type": "execute_result"
    }
   ],
   "source": [
    "!jupyter nbconvert --to script alien_invasion.ipynb --TagRemovePreprocessor.remove_cell_tags='{\"tag\"}'\n",
    "\n",
    "import re\n",
    "from pathlib import Path\n",
    "filename = Path.cwd() / 'alien_invasion.py'\n",
    "code_text = filename.read_text().split('\\n')\n",
    "lines = [line for line in code_text if len(line) == 0 or \n",
    "        (line[0] != '#' and 'get_ipython()' not in line)]\n",
    "clean_code = '\\n'.join(lines)\n",
    "clean_code = re.sub(r'\\n{2,}', '\\n\\n', clean_code)\n",
    "filename.write_text(clean_code.strip())"
   ]
  }
 ],
 "metadata": {
  "kernelspec": {
   "display_name": "Python 3 (ipykernel)",
   "language": "python",
   "name": "python3"
  },
  "language_info": {
   "codemirror_mode": {
    "name": "ipython",
    "version": 3
   },
   "file_extension": ".py",
   "mimetype": "text/x-python",
   "name": "python",
   "nbconvert_exporter": "python",
   "pygments_lexer": "ipython3",
   "version": "3.9.6"
  }
 },
 "nbformat": 4,
 "nbformat_minor": 5
}
