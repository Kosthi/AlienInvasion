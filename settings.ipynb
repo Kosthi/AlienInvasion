{
 "cells": [
  {
   "cell_type": "code",
   "execution_count": 4,
   "id": "dc934f13",
   "metadata": {},
   "outputs": [],
   "source": [
    "class Settings:\n",
    "    \"\"\"存储游戏《外星人入侵》中所有设置的类\"\"\"\n",
    "    def __init__(self):\n",
    "        \"\"\"初始化游戏的设置\"\"\"\n",
    "        # 屏幕设置\n",
    "        self.screen_width = 1200\n",
    "        self.screen_height = 800\n",
    "        self.bg_color = (230, 230, 230)\n",
    "        # 飞船设置\n",
    "        self.ship_speed = 1.5\n",
    "        # 子弹设置\n",
    "        self.bullet_speed = 1.0\n",
    "        self.bullet_width = 3\n",
    "        self.bullet_height = 15\n",
    "        self.bullet_color = (60, 60, 60)\n",
    "        self.bullets_allowed = 3"
   ]
  },
  {
   "cell_type": "code",
   "execution_count": 5,
   "id": "f1a9f31b",
   "metadata": {
    "tags": [
     "tag"
    ]
   },
   "outputs": [
    {
     "name": "stdout",
     "output_type": "stream",
     "text": [
      "[NbConvertApp] Converting notebook settings.ipynb to script\n",
      "[NbConvertApp] Writing 492 bytes to settings.py\n"
     ]
    },
    {
     "data": {
      "text/plain": [
       "440"
      ]
     },
     "execution_count": 5,
     "metadata": {},
     "output_type": "execute_result"
    }
   ],
   "source": [
    "!jupyter nbconvert --to script settings.ipynb --TagRemovePreprocessor.remove_cell_tags='{\"tag\"}'\n",
    "\n",
    "import re\n",
    "from pathlib import Path\n",
    "filename = Path.cwd() / 'settings.py'\n",
    "code_text = filename.read_text().split('\\n')\n",
    "lines = [line for line in code_text if len(line) == 0 or \n",
    "        (line[0] != '#' and 'get_ipython()' not in line)]\n",
    "clean_code = '\\n'.join(lines)\n",
    "clean_code = re.sub(r'\\n{2,}', '\\n\\n', clean_code)\n",
    "filename.write_text(clean_code.strip())"
   ]
  }
 ],
 "metadata": {
  "kernelspec": {
   "display_name": "Python 3 (ipykernel)",
   "language": "python",
   "name": "python3"
  },
  "language_info": {
   "codemirror_mode": {
    "name": "ipython",
    "version": 3
   },
   "file_extension": ".py",
   "mimetype": "text/x-python",
   "name": "python",
   "nbconvert_exporter": "python",
   "pygments_lexer": "ipython3",
   "version": "3.9.6"
  }
 },
 "nbformat": 4,
 "nbformat_minor": 5
}
