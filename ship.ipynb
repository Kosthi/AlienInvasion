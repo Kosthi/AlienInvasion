{
 "cells": [
  {
   "cell_type": "code",
   "execution_count": 2,
   "id": "cbfadcc7",
   "metadata": {},
   "outputs": [
    {
     "name": "stdout",
     "output_type": "stream",
     "text": [
      "pygame 2.1.2 (SDL 2.0.18, Python 3.9.6)\n",
      "Hello from the pygame community. https://www.pygame.org/contribute.html\n",
      "[NbConvertApp] Converting notebook settings.ipynb to script\n",
      "[NbConvertApp] Writing 390 bytes to settings.py\n"
     ]
    }
   ],
   "source": [
    "import pygame\n",
    "\n",
    "from settings import Settings"
   ]
  },
  {
   "cell_type": "code",
   "execution_count": 4,
   "id": "ecba27a0",
   "metadata": {},
   "outputs": [],
   "source": [
    "class Ship:\n",
    "    \"\"\"管理飞船的类\"\"\"\n",
    "    def __init__(self, ai_game):\n",
    "        \"\"\"初始化飞船并设置其初始位置\"\"\"\n",
    "        self.screen = ai_game.screen\n",
    "        self.settings = Settings()\n",
    "        self.screen_rect = self.screen.get_rect()\n",
    "        \n",
    "        # 加载飞船形状并获取其外接矩形\n",
    "        self.image = pygame.image.load('images/ship.bmp')\n",
    "        self.rect = self.image.get_rect()\n",
    "        \n",
    "        # 对于每艘新飞船，都放在屏幕底部中央\n",
    "        self.rect.midbottom = self.screen_rect.midbottom\n",
    "        \n",
    "        # 在飞船属性的x中存储小数值\n",
    "        self.x = float(self.rect.x)\n",
    "        \n",
    "        # 移动标志\n",
    "        self.moving_left = False\n",
    "        self.moving_right = False\n",
    "        \n",
    "    def blitme(self):\n",
    "        \"\"\"在指定位置绘制飞船\"\"\"\n",
    "        self.screen.blit(self.image, self.rect)\n",
    "        \n",
    "    def update(self):\n",
    "        \"\"\"根据移动标志调整飞船的位置\"\"\"\n",
    "        # 更新飞船而不是rect对象的值\n",
    "        if self.moving_left and self.rect.left > self.screen_rect.left:\n",
    "            self.x -= self.settings.ship_speed\n",
    "        if self.moving_right and self.rect.right < self.screen_rect.right:\n",
    "            self.x += self.settings.ship_speed\n",
    "        \n",
    "        # 根据self.x更新rect对象\n",
    "        self.rect.x = self.x"
   ]
  },
  {
   "cell_type": "code",
   "execution_count": null,
   "id": "68836cf8",
   "metadata": {},
   "outputs": [],
   "source": []
  },
  {
   "cell_type": "code",
   "execution_count": 15,
   "id": "cc2789cf",
   "metadata": {
    "tags": [
     "tag"
    ]
   },
   "outputs": [
    {
     "name": "stdout",
     "output_type": "stream",
     "text": [
      "[NbConvertApp] Converting notebook ship.ipynb to script\n",
      "[NbConvertApp] Writing 1159 bytes to ship.py\n"
     ]
    },
    {
     "data": {
      "text/plain": [
       "1081"
      ]
     },
     "execution_count": 15,
     "metadata": {},
     "output_type": "execute_result"
    }
   ],
   "source": [
    "!jupyter nbconvert --to script ship.ipynb --TagRemovePreprocessor.remove_cell_tags='{\"tag\"}'\n",
    "\n",
    "import re\n",
    "from pathlib import Path\n",
    "filename = Path.cwd() / 'ship.py'\n",
    "code_text = filename.read_text().split('\\n')\n",
    "lines = [line for line in code_text if len(line) == 0 or \n",
    "        (line[0] != '#' and 'get_ipython()' not in line)]\n",
    "clean_code = '\\n'.join(lines)\n",
    "clean_code = re.sub(r'\\n{2,}', '\\n\\n', clean_code)\n",
    "filename.write_text(clean_code.strip())"
   ]
  }
 ],
 "metadata": {
  "kernelspec": {
   "display_name": "Python 3 (ipykernel)",
   "language": "python",
   "name": "python3"
  },
  "language_info": {
   "codemirror_mode": {
    "name": "ipython",
    "version": 3
   },
   "file_extension": ".py",
   "mimetype": "text/x-python",
   "name": "python",
   "nbconvert_exporter": "python",
   "pygments_lexer": "ipython3",
   "version": "3.9.6"
  }
 },
 "nbformat": 4,
 "nbformat_minor": 5
}
